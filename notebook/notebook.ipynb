{
 "cells": [
  {
   "cell_type": "markdown",
   "metadata": {},
   "source": [
    "## NetworkPlot\n",
    "\n",
    "### Set environmental variables\n",
    "\n",
    "In order to properly load modules within this notebook from outside the repository folder, set the script **PATH** below,  e.g. ```C:/NetworkPlot```:"
   ]
  },
  {
   "cell_type": "code",
   "execution_count": null,
   "metadata": {},
   "outputs": [],
   "source": [
    "PATH = \"/path/to/NetworkPlot\" # <-- optional if running from native path"
   ]
  },
  {
   "cell_type": "code",
   "execution_count": null,
   "metadata": {},
   "outputs": [],
   "source": [
    "import os, sys\n",
    "\n",
    "PATH = os.path.realpath(\n",
    "    f'{PATH if os.path.isdir(PATH) else os.getcwd().rstrip(\"notebook\")}/../'\n",
    ")\n",
    "\n",
    "if PATH not in sys.path:\n",
    "    sys.path.append(PATH)"
   ]
  },
  {
   "cell_type": "markdown",
   "metadata": {},
   "source": [
    "### Import functions"
   ]
  },
  {
   "cell_type": "code",
   "execution_count": null,
   "metadata": {
    "scrolled": true
   },
   "outputs": [],
   "source": [
    "%load_ext autoreload\n",
    "%autoreload 2\n",
    "\n",
    "import networkx as nx\n",
    "import pandas as pd\n",
    "import plotly.offline as py\n",
    "\n",
    "from NetworkPlot import NetworkPlot\n",
    "\n",
    "py.init_notebook_mode(connected=True)"
   ]
  },
  {
   "cell_type": "markdown",
   "metadata": {},
   "source": [
    "### Load NetworkPlot\n",
    "\n",
    "Load NetworkPlot class with parameters set below. Note that random seed number (`random_state`) is set as `0` by default for predictable randomness."
   ]
  },
  {
   "cell_type": "code",
   "execution_count": null,
   "metadata": {},
   "outputs": [],
   "source": [
    "G = nx.Graph()"
   ]
  },
  {
   "cell_type": "code",
   "execution_count": null,
   "metadata": {},
   "outputs": [],
   "source": [
    "# G = nx.erdos_renyi_graph(30, 0.1)#, 0.5)\n",
    "# G = nx.watts_strogatz_graph(30, k=4, p=0.1)\n",
    "# G = nx.barabasi_albert_graph(30, m=2)"
   ]
  },
  {
   "cell_type": "code",
   "execution_count": null,
   "metadata": {},
   "outputs": [],
   "source": [
    "networkplot = NetworkPlot(\n",
    "    random_state=0,\n",
    ")"
   ]
  },
  {
   "cell_type": "markdown",
   "metadata": {},
   "source": [
    "### Build graph"
   ]
  },
  {
   "cell_type": "code",
   "execution_count": null,
   "metadata": {},
   "outputs": [],
   "source": [
    "G = networkplot.graph(\n",
    "    G,\n",
    "    source_attr = \"\",\n",
    "    target_attr = \"\",\n",
    "    edge_attr = [],\n",
    "    directed = True,\n",
    ")"
   ]
  },
  {
   "cell_type": "markdown",
   "metadata": {},
   "source": [
    "### Plot network graph"
   ]
  },
  {
   "cell_type": "code",
   "execution_count": null,
   "metadata": {},
   "outputs": [],
   "source": [
    "%time fig = networkplot(\\\n",
    "    G,\\\n",
    "    discard_trivial=True,\\\n",
    "    max_nodes=1000,\\\n",
    "    title=f'Graph (n={G.order()}, E={G.size()})',\\\n",
    "); fig"
   ]
  },
  {
   "cell_type": "markdown",
   "metadata": {},
   "source": [
    "### Compute centrality and partitions\n",
    "\n",
    "Returns a `Pandas.DataFrame` containing nodes and their centrality values. Also performs `Louvain` and `Leiden` communities detection."
   ]
  },
  {
   "cell_type": "code",
   "execution_count": null,
   "metadata": {},
   "outputs": [],
   "source": [
    "attrs = [\n",
    "'degree',\n",
    "'in_degree',\n",
    "'out_degree',\n",
    "# 'bridging_centrality',\n",
    "# 'bridging_coef',\n",
    "# 'brokering_centrality',\n",
    "# 'betweenness_centrality',\n",
    "# 'betweenness_approx',\n",
    "# 'betweenness_est',\n",
    "# 'closeness_centrality',\n",
    "# 'closeness_approx',\n",
    "# 'clustering_centrality',\n",
    "# 'eigenvector_centrality',\n",
    "# 'katz_centrality',\n",
    "# 'laplacian_centrality',\n",
    "# 'page_rank',\n",
    "# 'louvain',\n",
    "'leiden',\n",
    "]"
   ]
  },
  {
   "cell_type": "code",
   "execution_count": null,
   "metadata": {},
   "outputs": [],
   "source": [
    "%time df = networkplot.compute(G, attrs=attrs, normalize=True); df"
   ]
  },
  {
   "cell_type": "markdown",
   "metadata": {},
   "source": [
    "### Subgraphs over time"
   ]
  },
  {
   "cell_type": "code",
   "execution_count": null,
   "metadata": {},
   "outputs": [],
   "source": [
    "%time subgraphs = networkplot.temporal_subgraphs(G, date_attr='timestamp', interval=1)"
   ]
  },
  {
   "cell_type": "markdown",
   "metadata": {},
   "source": [
    "#### Centrality from subgraphs over time"
   ]
  },
  {
   "cell_type": "code",
   "execution_count": null,
   "metadata": {},
   "outputs": [],
   "source": [
    "%time df_subgraphs = {\\\n",
    "    date:\\\n",
    "        networkplot.compute(sg, attrs=attrs, normalize=True)\\\n",
    "    for date, sg in subgraphs.items()}"
   ]
  },
  {
   "cell_type": "markdown",
   "metadata": {},
   "source": [
    "#### Partitions from subgraphs over time"
   ]
  },
  {
   "cell_type": "code",
   "execution_count": null,
   "metadata": {},
   "outputs": [],
   "source": [
    "%time submodules = {\\\n",
    "    date:\\\n",
    "        networkplot.submodules(\\\n",
    "            df['leiden'],\\\n",
    "            df_sg['leiden'],\\\n",
    "        )\\\n",
    "for df_sg in df_subgraphs.items()}"
   ]
  },
  {
   "cell_type": "markdown",
   "metadata": {},
   "source": [
    "#### Inspect loaded data"
   ]
  },
  {
   "cell_type": "code",
   "execution_count": null,
   "metadata": {},
   "outputs": [],
   "source": [
    "#networkplot.nodes(G)"
   ]
  },
  {
   "cell_type": "code",
   "execution_count": null,
   "metadata": {},
   "outputs": [],
   "source": [
    "#networkplot.edges(G)"
   ]
  },
  {
   "cell_type": "code",
   "execution_count": null,
   "metadata": {},
   "outputs": [],
   "source": [
    "#networkplot.adjacency(G)"
   ]
  },
  {
   "cell_type": "code",
   "execution_count": null,
   "metadata": {},
   "outputs": [],
   "source": [
    "#networkplot.density(G)"
   ]
  },
  {
   "cell_type": "code",
   "execution_count": null,
   "metadata": {},
   "outputs": [],
   "source": [
    "#networkplot.diameter(G)"
   ]
  },
  {
   "cell_type": "markdown",
   "metadata": {},
   "source": [
    "_____\n",
    "### References\n",
    "\n",
    "* NetworkX: https://networkx.github.io\n",
    "\n",
    "* Networkit: https://github.com/networkit/networkit\n",
    "\n",
    "* Datashader: http://datashader.org/\n",
    "\n",
    "* Plotly: https://plot.ly"
   ]
  }
 ],
 "metadata": {
  "kernelspec": {
   "display_name": "Python 3",
   "language": "python",
   "name": "python3"
  },
  "language_info": {
   "codemirror_mode": {
    "name": "ipython",
    "version": 3
   },
   "file_extension": ".py",
   "mimetype": "text/x-python",
   "name": "python",
   "nbconvert_exporter": "python",
   "pygments_lexer": "ipython3",
   "version": "3.8.5"
  }
 },
 "nbformat": 4,
 "nbformat_minor": 4
}
