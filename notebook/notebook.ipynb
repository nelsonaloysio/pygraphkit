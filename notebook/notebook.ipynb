{
 "cells": [
  {
   "cell_type": "markdown",
   "metadata": {},
   "source": [
    "## GraphKit\n",
    "\n",
    "### Set environmental variables\n",
    "\n",
    "In order to properly load modules within this notebook from outside the repository folder, set the script **PATH** below,  e.g. ```C:/GraphKit```:"
   ]
  },
  {
   "cell_type": "code",
   "execution_count": null,
   "metadata": {},
   "outputs": [],
   "source": [
    "PATH = \"/path/to/GraphKit\" # <-- optional if running from native path"
   ]
  },
  {
   "cell_type": "code",
   "execution_count": null,
   "metadata": {},
   "outputs": [],
   "source": [
    "import os, sys\n",
    "\n",
    "PATH = os.path.realpath(\n",
    "    f'{PATH if os.path.isdir(PATH) else os.getcwd().rstrip(\"notebook\")}/../'\n",
    ")\n",
    "\n",
    "if PATH not in sys.path:\n",
    "    sys.path.append(PATH)"
   ]
  },
  {
   "cell_type": "markdown",
   "metadata": {},
   "source": [
    "### Import functions"
   ]
  },
  {
   "cell_type": "code",
   "execution_count": null,
   "metadata": {
    "scrolled": true
   },
   "outputs": [],
   "source": [
    "%load_ext autoreload\n",
    "%autoreload 2\n",
    "\n",
    "import networkx as nx\n",
    "import pandas as pd\n",
    "import plotly.offline as py\n",
    "\n",
    "from graphkit import GraphKit\n",
    "\n",
    "py.init_notebook_mode(connected=True)"
   ]
  },
  {
   "cell_type": "markdown",
   "metadata": {},
   "source": [
    "### Load GraphKit\n",
    "\n",
    "Load GraphKit class with parameters set below. Note that random seed number (`random_state`) is set as `0` by default for predictable randomness."
   ]
  },
  {
   "cell_type": "code",
   "execution_count": null,
   "metadata": {},
   "outputs": [],
   "source": [
    "gk = GraphKit(\n",
    "    random_state=0,\n",
    ")"
   ]
  },
  {
   "cell_type": "markdown",
   "metadata": {},
   "source": [
    "#### Build or load graph"
   ]
  },
  {
   "cell_type": "code",
   "execution_count": null,
   "metadata": {},
   "outputs": [],
   "source": [
    "G = nx.Graph()\n",
    "# G = nx.erdos_renyi_graph(30, 0.1)#, 0.5)\n",
    "# G = nx.watts_strogatz_graph(30, k=4, p=0.1)\n",
    "# G = nx.barabasi_albert_graph(30, m=2)"
   ]
  },
  {
   "cell_type": "markdown",
   "metadata": {},
   "source": [
    "### Build graph"
   ]
  },
  {
   "cell_type": "code",
   "execution_count": null,
   "metadata": {},
   "outputs": [],
   "source": [
    "G = gk.graph(\n",
    "    G,\n",
    "    source_attr = \"\",\n",
    "    target_attr = \"\",\n",
    "    edge_attrs = [],\n",
    "    directed = True,\n",
    ")"
   ]
  },
  {
   "cell_type": "markdown",
   "metadata": {},
   "source": [
    "### Compute centrality and partitions\n",
    "\n",
    "Returns a `Pandas.DataFrame` containing nodes and their centrality values. Also performs `Louvain` and `Leiden` communities detection."
   ]
  },
  {
   "cell_type": "code",
   "execution_count": null,
   "metadata": {},
   "outputs": [],
   "source": [
    "attrs = [\n",
    "'degree',\n",
    "'in_degree',\n",
    "'out_degree',\n",
    "# 'bridging_centrality',\n",
    "# 'bridging_coef',\n",
    "# 'brokering_centrality',\n",
    "# 'betweenness_centrality',\n",
    "# 'betweenness_approx',\n",
    "# 'betweenness_est',\n",
    "# 'closeness_centrality',\n",
    "# 'closeness_approx',\n",
    "# 'clustering_centrality',\n",
    "# 'eigenvector_centrality',\n",
    "# 'katz_centrality',\n",
    "# 'laplacian_centrality',\n",
    "# 'page_rank',\n",
    "# 'louvain',\n",
    "'leiden',\n",
    "]"
   ]
  },
  {
   "cell_type": "code",
   "execution_count": null,
   "metadata": {},
   "outputs": [],
   "source": [
    "%time df = gk.compute(G, attrs=attrs, normalize=True); df"
   ]
  },
  {
   "cell_type": "markdown",
   "metadata": {},
   "source": [
    "### Plot network graph\n",
    "\n",
    "Returns a `Plotly.Figure` object from graph data."
   ]
  },
  {
   "cell_type": "code",
   "execution_count": null,
   "metadata": {},
   "outputs": [],
   "source": [
    "fig = gk.plot(\n",
    "    G,\n",
    "    color=None,\n",
    "    # colorbar_title=False,\n",
    "    # colorscale=[\"#4e9cd5\", \"#ffffff\", \"#f6e16d\", \"#f76717\", \"#d11e26\"],\n",
    "    # discard_trivial=False,\n",
    "    # groups=df['leiden'].to_dict(),\n",
    "    # labels=None,\n",
    "    # max_labels=None,\n",
    "    # max_nodes=1000,\n",
    "    # resizer=lambda x: 7+x*25,\n",
    "    # reversescale=False,\n",
    "    # showarrow=False,\n",
    "    # showlabels=False,\n",
    "    # showlegend=None,\n",
    "    # showscale=False,\n",
    "    # size=None,\n",
    "    title=f'Graph (n={G.order()}, E={G.size()})',\n",
    "    # unlabeled='Nodes',\n",
    ")\n",
    "fig\n"
   ]
  },
  {
   "cell_type": "markdown",
   "metadata": {},
   "source": [
    "#### Inspect loaded data"
   ]
  },
  {
   "cell_type": "code",
   "execution_count": null,
   "metadata": {},
   "outputs": [],
   "source": [
    "# gk.nodes(G)"
   ]
  },
  {
   "cell_type": "code",
   "execution_count": null,
   "metadata": {},
   "outputs": [],
   "source": [
    "# gk.edges(G)"
   ]
  },
  {
   "cell_type": "code",
   "execution_count": null,
   "metadata": {},
   "outputs": [],
   "source": [
    "# gk.adjacency(G)"
   ]
  },
  {
   "cell_type": "code",
   "execution_count": null,
   "metadata": {},
   "outputs": [],
   "source": [
    "# gk.density(G)"
   ]
  },
  {
   "cell_type": "code",
   "execution_count": null,
   "metadata": {},
   "outputs": [],
   "source": [
    "# gk.diameter(G)"
   ]
  },
  {
   "cell_type": "markdown",
   "metadata": {},
   "source": [
    "_____\n",
    "### References\n",
    "\n",
    "* Datashader: http://datashader.org/\n",
    "\n",
    "* NetworkX: https://networkx.github.io\n",
    "\n",
    "* Networkit: https://github.com/networkit/networkit\n",
    "\n",
    "* Plotly: https://plot.ly"
   ]
  }
 ],
 "metadata": {
  "kernelspec": {
   "display_name": "Python 3",
   "language": "python",
   "name": "python3"
  },
  "language_info": {
   "codemirror_mode": {
    "name": "ipython",
    "version": 3
   },
   "file_extension": ".py",
   "mimetype": "text/x-python",
   "name": "python",
   "nbconvert_exporter": "python",
   "pygments_lexer": "ipython3",
   "version": "3.9.6"
  }
 },
 "nbformat": 4,
 "nbformat_minor": 4
}
